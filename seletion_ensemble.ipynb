{
 "cells": [
  {
   "attachments": {},
   "cell_type": "markdown",
   "metadata": {},
   "source": [
    "# Model selection and Ensemble Methods"
   ]
  },
  {
   "attachments": {},
   "cell_type": "markdown",
   "metadata": {},
   "source": [
    "-cross validation with k-fold\n",
    "-Boosting\n",
    "-Bagging\n",
    "-Stacking\n",
    "\n",
    "What steps will we take?\n",
    "\n",
    "-Import dataset\n",
    "-preprocess Data\n",
    "-Training and Classification\n",
    "-Conclusion"
   ]
  },
  {
   "cell_type": "code",
   "execution_count": 1,
   "metadata": {},
   "outputs": [],
   "source": [
    "# Model selection and Ensemble Methods\n",
    "\n",
    "import numpy as np\n",
    "import pandas as pd\n",
    "from sklearn.ensemble import RandomForestClassifier, StackingClassifier, BaggingClassifier, AdaBoostClassifier\n",
    "from sklearn.linear_model import LogisticRegression\n",
    "from sklearn.model_selection import train_test_split, GridSearchCV, cross_val_score\n",
    "from sklearn.tree import DecisionTreeClassifier\n",
    "from sklearn.linear_model import LogisticRegression\n",
    "from sklearn.neighbors  import KNeighborsClassifier\n",
    "from sklearn.datasets import make_classification"
   ]
  },
  {
   "attachments": {},
   "cell_type": "markdown",
   "metadata": {},
   "source": [
    "# Creating Dataset"
   ]
  },
  {
   "cell_type": "code",
   "execution_count": 2,
   "metadata": {},
   "outputs": [],
   "source": [
    "# Creating Dataset\n",
    "X, y = make_classification(n_samples=10000, n_features=15, random_state=42)"
   ]
  },
  {
   "cell_type": "code",
   "execution_count": 3,
   "metadata": {},
   "outputs": [
    {
     "name": "stdout",
     "output_type": "stream",
     "text": [
      "[1 1 1 1 1 1 1 0 0 0 1 1 0 1 0 1 1 0 1 1 0 1 0 0 0 0 0 1 1 1 1 0 0 0 1 0 1\n",
      " 1 0 1 0 1 0 0 0 0 1 0 0 1]\n"
     ]
    }
   ],
   "source": [
    "#Inspect the data\n",
    "\n",
    "#print(X.shape)\n",
    "#print(y.shape)\n",
    "\n",
    "\n",
    "\n",
    "print(y[0:50])"
   ]
  },
  {
   "attachments": {},
   "cell_type": "markdown",
   "metadata": {},
   "source": [
    "# split data into train and test\n"
   ]
  },
  {
   "cell_type": "code",
   "execution_count": 4,
   "metadata": {},
   "outputs": [
    {
     "name": "stdout",
     "output_type": "stream",
     "text": [
      "(7000, 15)\n"
     ]
    }
   ],
   "source": [
    "# split data into train and test\n",
    "X_train, X_test, y_train, y_test = train_test_split(X, y, test_size=0.3 , random_state=42)\n",
    "\n",
    "#Inspect the data\n",
    "print(X_train.shape)\n"
   ]
  },
  {
   "attachments": {},
   "cell_type": "markdown",
   "metadata": {},
   "source": [
    "# Build The Classifiers\n"
   ]
  },
  {
   "cell_type": "code",
   "execution_count": 5,
   "metadata": {},
   "outputs": [],
   "source": [
    "# initialize the classifiers\n",
    "from sklearn.naive_bayes import GaussianNB\n",
    "\n",
    "clf1 = KNeighborsClassifier()\n",
    "clf2 = GaussianNB()\n",
    "clf3 = DecisionTreeClassifier()\n",
    "\n",
    "# Define a meta-classifier for the stacking classifier\n",
    "# Use Logistic Regression as the meta-classifier\n",
    "\n",
    "clf_meta = LogisticRegression()\n"
   ]
  },
  {
   "cell_type": "code",
   "execution_count": 6,
   "metadata": {},
   "outputs": [],
   "source": [
    "# Create our ensample classifiers\n",
    "# Define the bagging classifier with a decision tree classifier\n",
    "clf_bagging = BaggingClassifier(base_estimator=clf3, n_estimators=10, random_state=42)\n",
    "\n",
    "# Define the boosting with a decision tree classifier\n",
    "clf_boosting = AdaBoostClassifier(base_estimator=clf3, n_estimators=10, random_state=42)\n",
    "\n",
    "# create estimators for the stacking classifier\n",
    "estimators = [('knn', clf1), ('gnb', clf2), ('dtc', clf3)]\n",
    "\n",
    "# Define teh stacking classifier with logistic regression as the meta-classifier\n",
    "clf_stack = StackingClassifier(estimators=estimators, final_estimator=clf_meta, cv= 10)\n"
   ]
  },
  {
   "attachments": {},
   "cell_type": "markdown",
   "metadata": {},
   "source": [
    "**Evaluate Our Models**"
   ]
  },
  {
   "cell_type": "code",
   "execution_count": 7,
   "metadata": {},
   "outputs": [
    {
     "name": "stdout",
     "output_type": "stream",
     "text": [
      "KNeighborsClassifier accuracy:  0.8943333333333333\n",
      "GaussianNB accuracy:  0.8713333333333333\n",
      "DecisionTreeClassifier accuracy:  0.8906666666666667\n",
      "LogisticRegression accuracy:  0.8943333333333333\n"
     ]
    },
    {
     "name": "stderr",
     "output_type": "stream",
     "text": [
      "/Users/sobhione/Documents/JENSENS-SCHOOL/ML-Supervised-Learning/ML/lib/python3.10/site-packages/sklearn/ensemble/_base.py:166: FutureWarning: `base_estimator` was renamed to `estimator` in version 1.2 and will be removed in 1.4.\n",
      "  warnings.warn(\n"
     ]
    },
    {
     "name": "stdout",
     "output_type": "stream",
     "text": [
      "BaggingClassifier accuracy:  0.9296666666666666\n",
      "AdaBoostClassifier accuracy:  0.893\n"
     ]
    },
    {
     "name": "stderr",
     "output_type": "stream",
     "text": [
      "/Users/sobhione/Documents/JENSENS-SCHOOL/ML-Supervised-Learning/ML/lib/python3.10/site-packages/sklearn/ensemble/_base.py:166: FutureWarning: `base_estimator` was renamed to `estimator` in version 1.2 and will be removed in 1.4.\n",
      "  warnings.warn(\n"
     ]
    },
    {
     "name": "stdout",
     "output_type": "stream",
     "text": [
      "StackingClassifier accuracy:  0.9113333333333333\n"
     ]
    }
   ],
   "source": [
    "# Fit and predict for each classifier\n",
    "from sklearn.metrics import accuracy_score\n",
    "\n",
    "for clf in (clf1, clf2, clf3, clf_meta, clf_bagging, clf_boosting, clf_stack):\n",
    "    clf.fit(X_train, y_train)\n",
    "    y_pred = clf.predict(X_test)\n",
    "    print(clf.__class__.__name__, 'accuracy: ', accuracy_score(y_test, y_pred))"
   ]
  },
  {
   "attachments": {},
   "cell_type": "markdown",
   "metadata": {},
   "source": [
    "# Cross Validation"
   ]
  },
  {
   "cell_type": "code",
   "execution_count": 8,
   "metadata": {},
   "outputs": [
    {
     "name": "stdout",
     "output_type": "stream",
     "text": [
      "cross-val-score: [0.92071429 0.92142857 0.90071429 0.91428571 0.91357143]\n",
      "cross-val-score mean: 0.914\n"
     ]
    }
   ],
   "source": [
    "# Cross Validation on stacking classifier\n",
    "scores = cross_val_score(clf_stack, X_train, y_train, cv=5)\n",
    "\n",
    "# print\n",
    "print('cross-val-score: {}'.format(scores))\n",
    "# Average Cross Validation on stacking classifier\n",
    "print('cross-val-score mean: {:.3f}'.format(scores.mean()))\n"
   ]
  }
 ],
 "metadata": {
  "kernelspec": {
   "display_name": "ML",
   "language": "python",
   "name": "python3"
  },
  "language_info": {
   "codemirror_mode": {
    "name": "ipython",
    "version": 3
   },
   "file_extension": ".py",
   "mimetype": "text/x-python",
   "name": "python",
   "nbconvert_exporter": "python",
   "pygments_lexer": "ipython3",
   "version": "3.10.9"
  },
  "orig_nbformat": 4
 },
 "nbformat": 4,
 "nbformat_minor": 2
}
