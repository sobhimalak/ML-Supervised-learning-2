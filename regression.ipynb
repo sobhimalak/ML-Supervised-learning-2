{
 "cells": [
  {
   "attachments": {},
   "cell_type": "markdown",
   "metadata": {},
   "source": [
    "# Regression\n",
    "I den här notebooken gör vi en första introduktion till regression\n",
    "- Vi kommer att använda oss av sklearn igen"
   ]
  },
  {
   "cell_type": "code",
   "execution_count": 1,
   "metadata": {},
   "outputs": [],
   "source": [
    "# Lite importer\n",
    "import numpy as np \n",
    "import pandas as pd\n",
    "import matplotlib.pyplot as plt\n",
    "from sklearn.linear_model import LinearRegression\n"
   ]
  },
  {
   "cell_type": "code",
   "execution_count": 2,
   "metadata": {},
   "outputs": [],
   "source": [
    "# Definerar lite input att jobba med!\n",
    "# Oftast är input i form av en fil eller en endpoint, men nu definerar vi lite exempeldata\n",
    "\n",
    "in_var = np.array([2, 4, 5, 6, 7, 8, 11, 12])\n",
    "out_var = np.array([3, 5, 7, 8, 12, 14, 15, 17])"
   ]
  },
  {
   "cell_type": "code",
   "execution_count": 8,
   "metadata": {},
   "outputs": [
    {
     "data": {
      "text/plain": [
       "array([ 2,  4,  5,  6,  7,  8, 11, 12])"
      ]
     },
     "execution_count": 8,
     "metadata": {},
     "output_type": "execute_result"
    }
   ],
   "source": [
    "in_var"
   ]
  },
  {
   "cell_type": "code",
   "execution_count": 10,
   "metadata": {},
   "outputs": [
    {
     "data": {
      "text/plain": [
       "array([[ 2],\n",
       "       [ 4],\n",
       "       [ 5],\n",
       "       [ 6],\n",
       "       [ 7],\n",
       "       [ 8],\n",
       "       [11],\n",
       "       [12]])"
      ]
     },
     "execution_count": 10,
     "metadata": {},
     "output_type": "execute_result"
    }
   ],
   "source": [
    "# Sklearns Linear Regression model förväntar sig indatan på en viss form\n",
    "# Här gör vi om den. Om vi har fel form, så kommer sklearn att klaga, \n",
    "# och berätta för oss hur vi bör ändra.\n",
    "\n",
    "in_var = in_var.reshape(-1,1)\n",
    "out_var = out_var.reshape(-1,1)\n",
    "in_var"
   ]
  },
  {
   "cell_type": "code",
   "execution_count": 11,
   "metadata": {},
   "outputs": [
    {
     "data": {
      "text/plain": [
       "<matplotlib.collections.PathCollection at 0x7fcd93e552b0>"
      ]
     },
     "execution_count": 11,
     "metadata": {},
     "output_type": "execute_result"
    },
    {
     "data": {
      "image/png": "[encoded data removed]",
      "text/plain": [
       "<Figure size 432x288 with 1 Axes>"
      ]
     },
     "metadata": {
      "needs_background": "light"
     },
     "output_type": "display_data"
    }
   ],
   "source": [
    "# Vi plottar vår indata mot utdatan\n",
    "# Vi ser en form som nog kommer gå ganska bra att hitta en linje till\n",
    "\n",
    "plt.scatter(in_var,out_var)"
   ]
  },
  {
   "cell_type": "code",
   "execution_count": 6,
   "metadata": {},
   "outputs": [],
   "source": [
    "# Skapa en tom modell\n",
    "# Vi kan tänka på den här som en blank y = k * x + m, där k och m inte är bestämda än \n",
    "\n",
    "lr_model = LinearRegression() "
   ]
  },
  {
   "cell_type": "code",
   "execution_count": 12,
   "metadata": {},
   "outputs": [
    {
     "data": {
      "text/plain": [
       "LinearRegression()"
      ]
     },
     "execution_count": 12,
     "metadata": {},
     "output_type": "execute_result"
    }
   ],
   "source": [
    "# Träna modellen\n",
    "# Vi bestämmer alltså värdena på k och m\n",
    "\n",
    "lr_model.fit(in_var, out_var)"
   ]
  },
  {
   "cell_type": "code",
   "execution_count": 13,
   "metadata": {},
   "outputs": [],
   "source": [
    "# Vi inspekterar resultatet\n",
    "\n",
    "k = lr_model.coef_\n",
    "m = lr_model.intercept_"
   ]
  },
  {
   "cell_type": "code",
   "execution_count": 14,
   "metadata": {},
   "outputs": [
    {
     "data": {
      "text/plain": [
       "(array([[1.44822257]]), array([0.16846986]))"
      ]
     },
     "execution_count": 14,
     "metadata": {},
     "output_type": "execute_result"
    }
   ],
   "source": [
    "k, m"
   ]
  },
  {
   "cell_type": "code",
   "execution_count": 16,
   "metadata": {},
   "outputs": [
    {
     "data": {
      "text/plain": [
       "[<matplotlib.lines.Line2D at 0x7fcd94058400>]"
      ]
     },
     "execution_count": 16,
     "metadata": {},
     "output_type": "execute_result"
    },
    {
     "data": {
      "image/png": "[encoded data removed]",
      "text/plain": [
       "<Figure size 432x288 with 1 Axes>"
      ]
     },
     "metadata": {
      "needs_background": "light"
     },
     "output_type": "display_data"
    }
   ],
   "source": [
    "# Vi plottar lite, och ser hur väl vi har lyckats\n",
    "\n",
    "plt.scatter(in_var, out_var, alpha=0.5)\n",
    "plt.plot(in_var, lr_model.predict(in_var), color = \"red\")\n"
   ]
  },
  {
   "cell_type": "code",
   "execution_count": 20,
   "metadata": {},
   "outputs": [
    {
     "name": "stdout",
     "output_type": "stream",
     "text": [
      "[[4.51313756]]\n"
     ]
    }
   ],
   "source": [
    "# Vi testar ett specifikt värde\n",
    "\n",
    "test_var = np.array([3]).reshape(-1,1)\n",
    "print(lr_model.predict(test_var))"
   ]
  },
  {
   "cell_type": "code",
   "execution_count": 23,
   "metadata": {},
   "outputs": [
    {
     "data": {
      "text/plain": [
       "0.9377916683133788"
      ]
     },
     "execution_count": 23,
     "metadata": {},
     "output_type": "execute_result"
    }
   ],
   "source": [
    "# Kan vi få fram en siffra, likt accuracyn från classificationen, som säger hur bra vår modell är? \n",
    "# Ja absolut! Det finns många bra utvärderingsmetoder för regression, den vanligaste är något som heter R^2 (R-squared)\n",
    "# Vi kommer prata mycket mer om utvärdering av metoder framåt i kursen!\n",
    "\n",
    "lr_model.score(in_var, out_var)"
   ]
  }
 ],
 "metadata": {
  "kernelspec": {
   "display_name": "base",
   "language": "python",
   "name": "python3"
  },
  "language_info": {
   "codemirror_mode": {
    "name": "ipython",
    "version": 3
   },
   "file_extension": ".py",
   "mimetype": "text/x-python",
   "name": "python",
   "nbconvert_exporter": "python",
   "pygments_lexer": "ipython3",
   "version": "3.9.7"
  },
  "orig_nbformat": 4
 },
 "nbformat": 4,
 "nbformat_minor": 2
}
